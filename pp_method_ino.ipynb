{
 "cells": [
  {
   "cell_type": "code",
   "execution_count": 3,
   "metadata": {},
   "outputs": [],
   "source": [
    "import cv2\n",
    "import numpy as np"
   ]
  },
  {
   "cell_type": "code",
   "execution_count": 2,
   "metadata": {},
   "outputs": [],
   "source": [
    "# 가우시안 필터 -> 노이즈 제거\n",
    "def del_noise(input_mat):\n",
    "    ret_mat = cv2.GaussianBlur(input_mat, (3,3), 0)\n",
    "\n",
    "    return ret_mat"
   ]
  },
  {
   "cell_type": "code",
   "execution_count": 3,
   "metadata": {},
   "outputs": [],
   "source": [
    "# grayscale로 변환, 이진화\n",
    "\n",
    "def make_gray_and_binary(input_mat):\n",
    "    gray_mat = cv2.cvtColor(input_mat, cv2.COLOR_BGR2GRAY)\n",
    "    boundary_value, ret_mat = cv2.threshold(gray_mat, 127, 255, cv2.THRESH_BINARY)\n",
    "    \n",
    "    return ret_mat"
   ]
  },
  {
   "cell_type": "code",
   "execution_count": 4,
   "metadata": {},
   "outputs": [],
   "source": [
    "# 모폴로지(열림)\n",
    "\n",
    "def morphologing(input_mat):\n",
    "    k = cv2.getStructuringElement(cv2.MORPH_RECT, (5,5))\n",
    "    ret_mat = cv2.morphologyEx(input_mat, cv2.MORPH_OPEN, k)\n",
    "\n",
    "    return ret_mat"
   ]
  },
  {
   "cell_type": "code",
   "execution_count": 5,
   "metadata": {},
   "outputs": [],
   "source": [
    "# 엣지 검출(라플라시안 필터 or 캐니)\n",
    "\n",
    "def detect_edge(input_mat, lapla_or_canny):\n",
    "    if(lapla_or_canny == 0):\n",
    "        ret_mat = cv2.Laplacian(input_mat, -1)\n",
    "    elif(lapla_or_canny == 1):\n",
    "        ret_mat = cv2.Canny(input_mat, 100, 200)\n",
    "    \n",
    "    return ret_mat"
   ]
  },
  {
   "cell_type": "code",
   "execution_count": 7,
   "metadata": {},
   "outputs": [],
   "source": [
    "def extract_obj(input_mat):\n",
    "    copy = input_mat.copy()\n",
    "\n",
    "    # grayscale 변환\n",
    "    gray = cv2.cvtColor(input_mat, cv2.COLOR_BGR2GRAY)\n",
    "    # 가우시안 블러링\n",
    "    gray_blur = cv2.GaussianBlur(gray, (3,3), 0)\n",
    "    # canny 필터\n",
    "    edged = cv2.Canny(gray_blur, 30, 220)\n",
    "\n",
    "    # edge 검출 이미지\n",
    "    # cv2.imshow('canny_edged', edged)\n",
    "    # cv2.waitKey()\n",
    "\n",
    "    # 컨투어 리스트 획득\n",
    "    cnts, hr = cv2.findContours(edged.copy(), cv2.RETR_EXTERNAL, cv2.CHAIN_APPROX_SIMPLE)[:]\n",
    "\n",
    "    # 영역이 최대인 rect 획득\n",
    "    x, y, w, h = cv2.boundingRect(cnts[0])\n",
    "    \n",
    "    for c in cnts:\n",
    "        a, b, c, d = cv2.boundingRect(c)\n",
    "        if(c*d > w*h):\n",
    "            x, y, w, h = a, b, c, d\n",
    "\n",
    "    rect = (x, y, x + w, y + h)\n",
    "\n",
    "    # 선택된 rect 확인\n",
    "    # rect_draw = cv2.rectangle(input_mat.copy(), rect, (255, 0, 0))\n",
    "    # cv2.imshow('rect_draw', rect_draw)\n",
    "    # cv2.waitKey()\n",
    "\n",
    "    mask = np.zeros(input_mat.shape[:2], dtype= np.uint8)\n",
    "    cv2.grabCut(input_mat, mask, rect, None, None, 1, cv2.\n",
    "    GC_INIT_WITH_RECT)\n",
    "\n",
    "    mask_dst = np.where((mask == 0)|(mask == 2), 0, 1).astype('uint8')\n",
    "\n",
    "    dst = input_mat*mask_dst[:, :, np.newaxis]\n",
    "\n",
    "    # 출력 확인\n",
    "    # cv2.imshow('dst', dst)\n",
    "    # cv2.waitKey()\n",
    "    # cv2.destroyAllWindows()\n",
    "\n",
    "    return dst"
   ]
  }
 ],
 "metadata": {
  "kernelspec": {
   "display_name": "env01",
   "language": "python",
   "name": "python3"
  },
  "language_info": {
   "codemirror_mode": {
    "name": "ipython",
    "version": 3
   },
   "file_extension": ".py",
   "mimetype": "text/x-python",
   "name": "python",
   "nbconvert_exporter": "python",
   "pygments_lexer": "ipython3",
   "version": "3.11.8"
  }
 },
 "nbformat": 4,
 "nbformat_minor": 2
}
