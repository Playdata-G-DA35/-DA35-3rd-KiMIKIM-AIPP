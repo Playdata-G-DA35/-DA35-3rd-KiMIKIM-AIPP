{
 "cells": [
  {
   "cell_type": "code",
   "execution_count": 1,
   "metadata": {},
   "outputs": [],
   "source": [
    "import cv2\n",
    "import numpy as np"
   ]
  },
  {
   "cell_type": "code",
   "execution_count": 2,
   "metadata": {},
   "outputs": [],
   "source": [
    "# 가우시안 필터 -> 노이즈 제거\n",
    "def del_noise(input_mat):\n",
    "    ret_mat = cv2.GaussianBlur(input_mat, (3,3), 0)\n",
    "\n",
    "    return ret_mat"
   ]
  },
  {
   "cell_type": "code",
   "execution_count": 3,
   "metadata": {},
   "outputs": [],
   "source": [
    "# grayscale로 변환, 이진화\n",
    "\n",
    "def make_gray_and_binary(input_mat):\n",
    "    gray_mat = cv2.cvtColor(input_mat, cv2.COLOR_BGR2GRAY)\n",
    "    boundary_value, ret_mat = cv2.threshold(gray_mat, 127, 255, cv2.THRESH_BINARY)\n",
    "    \n",
    "    return ret_mat"
   ]
  },
  {
   "cell_type": "code",
   "execution_count": 4,
   "metadata": {},
   "outputs": [],
   "source": [
    "# 모폴로지(열림)\n",
    "\n",
    "def morphologing(input_mat):\n",
    "    k = cv2.getStructuringElement(cv2.MORPH_RECT, (5,5))\n",
    "    ret_mat = cv2.morphologyEx(input_mat, cv2.MORPH_OPEN, k)\n",
    "\n",
    "    return ret_mat"
   ]
  },
  {
   "cell_type": "code",
   "execution_count": 5,
   "metadata": {},
   "outputs": [],
   "source": [
    "# 엣지 검출(라플라시안 필터 or 캐니)\n",
    "\n",
    "def detect_edge(input_mat, lapla_or_canny):\n",
    "    if(lapla_or_canny == 0):\n",
    "        ret_mat = cv2.Laplacian(input_mat, -1)\n",
    "    elif(lapla_or_canny == 1):\n",
    "        ret_mat = cv2.Canny(input_mat, 100, 200)\n",
    "    \n",
    "    return ret_mat"
   ]
  }
 ],
 "metadata": {
  "kernelspec": {
   "display_name": "env01",
   "language": "python",
   "name": "python3"
  },
  "language_info": {
   "codemirror_mode": {
    "name": "ipython",
    "version": 3
   },
   "file_extension": ".py",
   "mimetype": "text/x-python",
   "name": "python",
   "nbconvert_exporter": "python",
   "pygments_lexer": "ipython3",
   "version": "3.11.8"
  }
 },
 "nbformat": 4,
 "nbformat_minor": 2
}
