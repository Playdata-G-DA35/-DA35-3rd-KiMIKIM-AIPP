{
 "cells": [
  {
   "cell_type": "code",
   "execution_count": 1,
   "metadata": {},
   "outputs": [],
   "source": [
    "import cv2\n",
    "import numpy as np"
   ]
  },
  {
   "cell_type": "code",
   "execution_count": 2,
   "metadata": {},
   "outputs": [],
   "source": [
    "# 가우시안 필터 -> 노이즈 제거\n",
    "def del_noise(input_mat):\n",
    "    ret_mat = cv2.GaussianBlur(input_mat, (3,3), 0)\n",
    "\n",
    "    return ret_mat"
   ]
  },
  {
   "cell_type": "code",
   "execution_count": 3,
   "metadata": {},
   "outputs": [],
   "source": [
    "# grayscale로 변환, 이진화\n",
    "\n",
    "def make_gray_and_binary(input_mat):\n",
    "    gray_mat = cv2.cvtColor(input_mat, cv2.COLOR_BGR2GRAY)\n",
    "    boundary_value, ret_mat = cv2.threshold(gray_mat, 127, 255, cv2.THRESH_BINARY)\n",
    "    \n",
    "    return ret_mat"
   ]
  },
  {
   "cell_type": "code",
   "execution_count": 4,
   "metadata": {},
   "outputs": [],
   "source": [
    "# 모폴로지(열림)\n",
    "\n",
    "def morphologing(input_mat):\n",
    "    k = cv2.getStructuringElement(cv2.MORPH_RECT, (5,5))\n",
    "    ret_mat = cv2.morphologyEx(input_mat, cv2.MORPH_OPEN, k)\n",
    "\n",
    "    return ret_mat"
   ]
  },
  {
   "cell_type": "code",
   "execution_count": 5,
   "metadata": {},
   "outputs": [],
   "source": [
    "# 엣지 검출(라플라시안 필터 or 캐니)\n",
    "\n",
    "def detect_edge(input_mat, lapla_or_canny):\n",
    "    if(lapla_or_canny == 0):\n",
    "        ret_mat = cv2.Laplacian(input_mat, -1)\n",
    "    elif(lapla_or_canny == 1):\n",
    "        ret_mat = cv2.Canny(input_mat, 100, 200)\n",
    "    \n",
    "    return ret_mat"
   ]
  },
  {
   "cell_type": "code",
   "execution_count": 6,
   "metadata": {},
   "outputs": [
    {
     "name": "stdout",
     "output_type": "stream",
     "text": [
      "224 224\n"
     ]
    }
   ],
   "source": [
    "img = cv2.imread('Dog_11.jpg')\n",
    "h, w = img.shape[:2]\n",
    "print(h, w)"
   ]
  },
  {
   "cell_type": "code",
   "execution_count": 7,
   "metadata": {},
   "outputs": [],
   "source": [
    "rc = cv2.selectROI(img)\n",
    "mask = np.zeros(img.shape[:2], dtype= np.uint8)\n",
    "bgd = np.zeros((1, 65), np.float64)\n",
    "fgd = np.zeros((1, 65), np.float64)\n",
    "cv2.grabCut(img, mask, rc, None, None, 5, cv2.GC_INIT_WITH_RECT)\n",
    "\n",
    "cv2.destroyAllWindows()\n",
    "\n",
    "mask2 = np.where((mask == 0) | (mask == 2), 0, 1).astype('uint8')\n",
    "\n",
    "dst = img*mask2[:, :, np.newaxis]"
   ]
  },
  {
   "cell_type": "code",
   "execution_count": 8,
   "metadata": {},
   "outputs": [],
   "source": [
    "cv2.imshow('dst', dst)\n",
    "# cv2.imshow('bdg', bgd)\n",
    "# cv2.imshow('fgd', fgd)\n",
    "cv2.waitKey()\n",
    "cv2.destroyAllWindows()"
   ]
  },
  {
   "cell_type": "code",
   "execution_count": 9,
   "metadata": {},
   "outputs": [],
   "source": [
    "# img_gr = make_gray_and_binary(img)\n",
    "# cv2.imshow('gray', img_gr)\n",
    "\n",
    "# contour, hr = cv2.findContours(img_gr, cv2.RETR_EXTERNAL, cv2.CHAIN_APPROX_SIMPLE)\n",
    "\n",
    "# x,y,w,h = cv2.boundingRect(contour[0])\n",
    "\n",
    "# img = cv2.imread('Dog_11.jpg')\n",
    "# cv2.rectangle(img, (x, y), (x+w, y+h), (0, 0, 255))\n",
    "# cv2.imshow('img + contour', img)\n",
    "# cv2.waitKey()\n",
    "# cv2.destroyAllWindows()"
   ]
  },
  {
   "cell_type": "code",
   "execution_count": 10,
   "metadata": {},
   "outputs": [],
   "source": [
    "# img = cv2.imread('Dog_11.jpg', cv2.IMREAD_GRAYSCALE)\n",
    "# img = detect_edge(img, 1)\n",
    "# cv2.imshow('edge', img)\n",
    "\n",
    "# contour, hr = cv2.findContours(img, cv2.RETR_EXTERNAL, cv2.CHAIN_APPROX_SIMPLE)\n",
    "\n",
    "# rotateRect = cv2.minAreaRect(contour)\n",
    "\n",
    "# vertex = cv2.boxPoints(rotateRect)\n",
    "\n",
    "# img = cv2.imread('Dog_11.jpg')\n",
    "# # cv2.rectangle(img, (x, y), (x+w, y+h), (255, 0, 0), thickness= 5)\n",
    "# cv2.drawContours(img, contour, -1, (255, 0, 255), 2)\n",
    "# cv2.imshow('img + contour', img)\n",
    "# cv2.waitKey()\n",
    "# cv2.destroyAllWindows()\n",
    "\n",
    "# print(x, y, x+w, y+h)"
   ]
  },
  {
   "cell_type": "code",
   "execution_count": 17,
   "metadata": {},
   "outputs": [
    {
     "name": "stdout",
     "output_type": "stream",
     "text": [
      "K: 1\n",
      "K: 2\n",
      "K: 3\n",
      "K: 4\n",
      "K: 5\n",
      "K: 6\n",
      "K: 7\n",
      "K: 8\n",
      "K: 9\n"
     ]
    }
   ],
   "source": [
    "img = cv2.imread('Dog_11.jpg')\n",
    "\n",
    "data = img.reshape((-1, 3)).astype(np.float32)\n",
    "\n",
    "criteria = (cv2.TERM_CRITERIA_EPS|cv2.TERM_CRITERIA_MAX_ITER, 10, 5.0)\n",
    "\n",
    "for K in range(1, 10):\n",
    "    print('K:', K)\n",
    "    ret, label, center = cv2.kmeans(data, K, None, criteria, 4, cv2.KMEANS_RANDOM_CENTERS)\n",
    "\n",
    "    center = np.uint8(center)\n",
    "\n",
    "    dst = center[label.flatten()]\n",
    "\n",
    "    dst = dst.reshape((img.shape))\n",
    "\n",
    "    cv2.imshow('src', img)\n",
    "    cv2.imshow('dst', dst)\n",
    "    cv2.waitKey()\n",
    "\n",
    "cv2.destroyAllWindows()"
   ]
  }
 ],
 "metadata": {
  "kernelspec": {
   "display_name": "env01",
   "language": "python",
   "name": "python3"
  },
  "language_info": {
   "codemirror_mode": {
    "name": "ipython",
    "version": 3
   },
   "file_extension": ".py",
   "mimetype": "text/x-python",
   "name": "python",
   "nbconvert_exporter": "python",
   "pygments_lexer": "ipython3",
   "version": "3.11.8"
  }
 },
 "nbformat": 4,
 "nbformat_minor": 2
}
